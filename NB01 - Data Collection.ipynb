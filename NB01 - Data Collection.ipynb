{
 "cells": [
  {
   "cell_type": "markdown",
   "metadata": {},
   "source": [
    "# FINAL PROJECT - Data collection"
   ]
  },
  {
   "cell_type": "code",
   "execution_count": 1,
   "metadata": {},
   "outputs": [],
   "source": [
    "#!pip install kaggle\n",
    "#!pip install plotnine\n",
    "#!pip install python-dotenv"
   ]
  },
  {
   "cell_type": "code",
   "execution_count": 2,
   "metadata": {},
   "outputs": [
    {
     "data": {
      "text/html": [
       "\n",
       "            <div id=\"PPmltZ\"></div>\n",
       "            <script type=\"text/javascript\" data-lets-plot-script=\"library\">\n",
       "                if(!window.letsPlotCallQueue) {\n",
       "                    window.letsPlotCallQueue = [];\n",
       "                }; \n",
       "                window.letsPlotCall = function(f) {\n",
       "                    window.letsPlotCallQueue.push(f);\n",
       "                };\n",
       "                (function() {\n",
       "                    var script = document.createElement(\"script\");\n",
       "                    script.type = \"text/javascript\";\n",
       "                    script.src = \"https://cdn.jsdelivr.net/gh/JetBrains/lets-plot@v4.3.3/js-package/distr/lets-plot.min.js\";\n",
       "                    script.onload = function() {\n",
       "                        window.letsPlotCall = function(f) {f();};\n",
       "                        window.letsPlotCallQueue.forEach(function(f) {f();});\n",
       "                        window.letsPlotCallQueue = [];\n",
       "                        \n",
       "                    };\n",
       "                    script.onerror = function(event) {\n",
       "                        window.letsPlotCall = function(f) {};    // noop\n",
       "                        window.letsPlotCallQueue = [];\n",
       "                        var div = document.createElement(\"div\");\n",
       "                        div.style.color = 'darkred';\n",
       "                        div.textContent = 'Error loading Lets-Plot JS';\n",
       "                        document.getElementById(\"PPmltZ\").appendChild(div);\n",
       "                    };\n",
       "                    var e = document.getElementById(\"PPmltZ\");\n",
       "                    e.appendChild(script);\n",
       "                })()\n",
       "            </script>\n",
       "            "
      ]
     },
     "metadata": {},
     "output_type": "display_data"
    }
   ],
   "source": [
    "import kaggle\n",
    "import pandas as pd\n",
    "import csv\n",
    "import os\n",
    "import json\n",
    "from lets_plot import *\n",
    "from lets_plot.mapping import *\n",
    "LetsPlot.setup_html()\n",
    "#from plotnine import *\n",
    "from dotenv import dotenv_values"
   ]
  },
  {
   "cell_type": "code",
   "execution_count": 3,
   "metadata": {},
   "outputs": [],
   "source": [
    "config = dotenv_values(\".env\")\n",
    "\n",
    "kaggle_username = config[\"KAGGLE_USERNAME\"]\n",
    "kaggle_key = config[\"KAGGLE_KEY\"]\n",
    "\n",
    "# Configurer les variables d'environnement pour Kaggle\n",
    "os.environ[\"KAGGLE_USERNAME\"] = kaggle_username\n",
    "os.environ[\"KAGGLE_KEY\"] = kaggle_key"
   ]
  },
  {
   "cell_type": "code",
   "execution_count": 4,
   "metadata": {},
   "outputs": [
    {
     "name": "stdout",
     "output_type": "stream",
     "text": [
      "Dataset URL: https://www.kaggle.com/datasets/sohier/crime-in-baltimore\n"
     ]
    }
   ],
   "source": [
    "os.makedirs(os.path.expanduser(\"~/.kaggle\"), exist_ok=True)\n",
    "\n",
    "# Save the credentials to the kaggle.json file\n",
    "api_token = {\"username\": kaggle_username, \"key\": kaggle_key}\n",
    "with open(os.path.expanduser(\"~/.kaggle/kaggle.json\"), \"w\") as file:\n",
    "    json.dump(api_token, file)\n",
    "\n",
    "# Set permissions for the kaggle.json file\n",
    "os.chmod(os.path.expanduser(\"~/.kaggle/kaggle.json\"), 0o600)\n",
    "\n",
    "# Define the download path\n",
    "download_path = r'data_proj' ####relative path\n",
    "\n",
    "# Create the download directory if it does not exist\n",
    "os.makedirs(download_path, exist_ok=True)\n",
    "\n",
    "# Download the dataset to the specified path\n",
    "kaggle.api.dataset_download_files('sohier/crime-in-baltimore', path=download_path, unzip=True)\n",
    "\n",
    "# Load the dataset into a pandas DataFrame\n",
    "# Assuming the dataset has a CSV file, you may need to adjust the file name based on the actual dataset\n",
    "csv_file = [file for file in os.listdir(download_path) if file.endswith('.csv')][0]\n",
    "csv_path = os.path.join(download_path, csv_file)"
   ]
  },
  {
   "cell_type": "code",
   "execution_count": 5,
   "metadata": {},
   "outputs": [
    {
     "name": "stdout",
     "output_type": "stream",
     "text": [
      "Dataset URL: https://www.kaggle.com/datasets/wosaku/crime-in-vancouver\n"
     ]
    }
   ],
   "source": [
    "download_path = r'data_proj' ###relative path\n",
    "\n",
    "# Create the download directory if it does not exist\n",
    "os.makedirs(download_path, exist_ok=True)\n",
    "\n",
    "# Download the dataset to the specified path\n",
    "kaggle.api.dataset_download_files('wosaku/crime-in-vancouver', path=download_path, unzip=True)\n",
    "\n",
    "# Load the dataset into a pandas DataFrame\n",
    "# Assuming the dataset has a CSV file, you may need to adjust the file name based on the actual dataset\n",
    "csv_file = [file for file in os.listdir(download_path) if file.endswith('.csv')][0]\n",
    "csv_path = os.path.join(download_path, csv_file)\n"
   ]
  }
 ],
 "metadata": {
  "kernelspec": {
   "display_name": ".venv",
   "language": "python",
   "name": "python3"
  },
  "language_info": {
   "codemirror_mode": {
    "name": "ipython",
    "version": 3
   },
   "file_extension": ".py",
   "mimetype": "text/x-python",
   "name": "python",
   "nbconvert_exporter": "python",
   "pygments_lexer": "ipython3",
   "version": "3.10.11"
  }
 },
 "nbformat": 4,
 "nbformat_minor": 2
}
